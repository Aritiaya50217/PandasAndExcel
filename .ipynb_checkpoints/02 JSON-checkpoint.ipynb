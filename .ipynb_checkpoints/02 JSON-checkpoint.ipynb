{
 "cells": [
  {
   "cell_type": "code",
   "execution_count": 2,
   "metadata": {},
   "outputs": [
    {
     "name": "stdout",
     "output_type": "stream",
     "text": [
      "{'name': 'A', 'age': 23} Type :  <class 'dict'>\n"
     ]
    }
   ],
   "source": [
    "# สรุป JSON แบบกระชับ\n",
    "# เป็นฟอร์แมตในการแลกเปลี่ยนข้อมูลระหว่าง  Server และ Application/Client ได้รับความนิยมสูงสุดในปัจจุบัน\n",
    "# เก็บข้อมูลในรูปแบบของ key-value\n",
    "\n",
    "import json\n",
    "\n",
    "obj = {'name' : 'A' ,\n",
    "      'age' : 23}\n",
    "print(obj,'Type : ',type(obj))"
   ]
  },
  {
   "cell_type": "code",
   "execution_count": 6,
   "metadata": {},
   "outputs": [
    {
     "name": "stdout",
     "output_type": "stream",
     "text": [
      "<class 'dict'>\n",
      "{\"name\": \"A\", \"author\": \"Guido Van Rossum\", \"year\": 1990, \"frameworks\": [\"Flask\", \"Django\"], \"libraries\": [\"Pandas\", \"Numpy\", \"Matplotlib\", \"Requests\"]} \n",
      " Type :  <class 'str'>\n"
     ]
    }
   ],
   "source": [
    "# json.dumps() คือการแปลง Python Object (Dict) ไปเป็น JSON String หรือ Object  \n",
    "import json\n",
    "\n",
    "prog_dict = {\n",
    "    \"name\" : 'A' ,\n",
    "   \"author\": \"Guido Van Rossum\",\n",
    "    \"year\": 1990,\n",
    "    \"frameworks\": [\"Flask\", \"Django\"],\n",
    "    \"libraries\": [\"Pandas\", \"Numpy\", \"Matplotlib\", \"Requests\"]\n",
    "}\n",
    "print(type(prog_dict))\n",
    "\n",
    "# แปลง Python Dict ไปเป็น JSON String\n",
    "prog_string = json.dumps(prog_dict)\n",
    "\n",
    "print(prog_string,'\\n Type : ',type(prog_string))"
   ]
  },
  {
   "cell_type": "code",
   "execution_count": 93,
   "metadata": {},
   "outputs": [
    {
     "name": "stdout",
     "output_type": "stream",
     "text": [
      "<class 'dict'>\n",
      "{\"name\": \"Python\", \"author\": \"Guido Van Rossum\", \"year\": 1990, \"frameworks\": [\"Flask\", \"Django\"], \"libraries\": [\"Pandas\", \"Numpy\", \"Matplotlib\", \"Requests\"]} \n",
      "Type : <class 'str'> \n",
      "\n",
      "{'name': 'Python', 'author': 'Guido Van Rossum', 'year': 1990, 'frameworks': ['Flask', 'Django'], 'libraries': ['Pandas', 'Numpy', 'Matplotlib', 'Requests']} \n",
      " Type :  <class 'dict'>\n",
      "Name :  Python\n"
     ]
    }
   ],
   "source": [
    "# json.loads()  คือการแปลง JSON  String ไปเป็น Python Object (Dict) \n",
    "\n",
    "import json\n",
    "\n",
    "a = {\n",
    "    \"name\": \"Python\",\n",
    "    \"author\": \"Guido Van Rossum\",\n",
    "    \"year\": 1990,\n",
    "    \"frameworks\": [\"Flask\", \"Django\"],\n",
    "    \"libraries\": [\"Pandas\", \"Numpy\", \"Matplotlib\", \"Requests\"]\n",
    "}              \n",
    "print(type(a))  \n",
    "b = json.dumps(a)\n",
    "print(b,'\\nType :',type(b),'\\n')\n",
    "\n",
    "# แปลง JSON string เป็น Python Dictionary (dict)\n",
    "prog_dict = json.loads(b)\n",
    "print(prog_dict,'\\n','Type : ',type(prog_dict))\n",
    "\n",
    "# เข้าถึงข้อมูลด้วย key\n",
    "print('Name : ',prog_dict[\"name\"])"
   ]
  },
  {
   "cell_type": "code",
   "execution_count": 99,
   "metadata": {},
   "outputs": [
    {
     "name": "stdout",
     "output_type": "stream",
     "text": [
      "{'name': 'Python', 'author': 'Guido Van Rossum', 'year': 1990, 'frameworks': ['Flask', 'Django'], 'libraries': ['Pandas', 'Numpy', 'Matplotlib', 'Requests']} \n",
      "\n",
      "Type :  <class 'dict'>\n"
     ]
    }
   ],
   "source": [
    "# json.dump() คือการแปลง Python Object (Dict) ไปเป็น JSON\n",
    "import json \n",
    "prog_dict = {\n",
    "    \"name\": \"Python\",\n",
    "    \"author\": \"Guido Van Rossum\",\n",
    "    \"year\": 1990,\n",
    "    \"frameworks\": [\"Flask\", \"Django\"],\n",
    "    \"libraries\": [\"Pandas\", \"Numpy\", \"Matplotlib\", \"Requests\"]\n",
    "}\n",
    "\n",
    "# ฟังก์ชัน   open()   ทำการส่ง Arguments เข้าไป 2 ตัว\n",
    "# data.json   ซึ่งเป็นชื่อไฟล์ใหม่ที่กำหนดขึ้นมาเพื่อทำการบันทึกข้อมูลลงไป \n",
    "# 'w'  ซึ่งเป็นโหมดการเขียนไฟล์ (Write)\n",
    "\n",
    "with open('data.json', 'w') as json_file:\n",
    "    # เขียน Python Dict ลงในไฟล์ data.json\n",
    "    # ใช้   indent  ในการจัดระเบียบเพื่อให้อ่านง่ายขึ้น\n",
    "    json.dump(prog_dict, json_file,indent=4)  \n",
    "\n",
    "print(prog_dict,'\\n')\n",
    "print('Type : ',type(prog_dict))\n",
    "\n",
    "\n"
   ]
  },
  {
   "cell_type": "code",
   "execution_count": 113,
   "metadata": {},
   "outputs": [
    {
     "name": "stdout",
     "output_type": "stream",
     "text": [
      "data :  {'name': 'Python', 'author': 'Guido Van Rossum', 'year': 1990, 'frameworks': ['Flask', 'Django'], 'libraries': ['Pandas', 'Numpy', 'Matplotlib', 'Requests']} \n",
      "Type :  <class 'dict'> \n",
      "\n",
      "Name :  Python <class 'dict'>\n"
     ]
    }
   ],
   "source": [
    "# json.load() คือการแปลง JSON ไปเป็น Python Object (Dict)\n",
    "# โหลดข้อมูลเข้ามา แล้วใช้ Python Object (Dict) ในการเข้าถึงข้อมูลภายใน เช่น การเข้าถึงโดยใช้ key , value\n",
    "import json\n",
    "# เปิด JSON file จาก path ที่อยู่ของไฟล์\n",
    "with open('data.json') as json_file:\n",
    "    # แปลง JSON ไฟล์ เป็น Python Dict\n",
    "    prog_dict = json.load(json_file)\n",
    "    \n",
    "print('data : ',prog_dict,'\\nType : ',type(prog_dict),'\\n')\n",
    "\n",
    "#   เข้าถึงข้อมูลโดยใช้ key จะได้ข้อมูลจากไฟล์ data.json ที่เราบันทึกไว้\n",
    "print('Name : ',prog_dict['name'],type(prog_dict))\n"
   ]
  },
  {
   "cell_type": "code",
   "execution_count": 115,
   "metadata": {},
   "outputs": [
    {
     "name": "stdout",
     "output_type": "stream",
     "text": [
      "<Response [200]>\n",
      "b'[{\"id\":1,\"language\":\"Python\",\"library\":\"Pandas\"},{\"id\":2,\"language\":\"Python\",\"library\":\"requests\"},{\"id\":3,\"language\":\"Python\",\"library\":\"NumPy\"},{\"id\":4,\"language\":\"Python\",\"library\":\"TensorFlow\"}]\\n'\n",
      "<class 'bytes'>\n",
      "[{'id': 1, 'language': 'Python', 'library': 'Pandas'}, {'id': 2, 'language': 'Python', 'library': 'requests'}, {'id': 3, 'language': 'Python', 'library': 'NumPy'}, {'id': 4, 'language': 'Python', 'library': 'TensorFlow'}]\n",
      "<class 'list'>\n",
      "{'id': 1, 'language': 'Python', 'library': 'Pandas'}\n",
      "{'id': 2, 'language': 'Python', 'library': 'requests'}\n",
      "{'id': 3, 'language': 'Python', 'library': 'NumPy'}\n",
      "{'id': 4, 'language': 'Python', 'library': 'TensorFlow'}\n"
     ]
    }
   ],
   "source": [
    "# การ ดึง API จาก URL\n",
    "import requests\n",
    "import json\n",
    "\n",
    "url = requests.get(\"https://stackpython-flask-heroku.herokuapp.com/api\")\n",
    "print(url)  # Response status code, 200 is success\n",
    "print(url.content)  # Display all objects\n",
    "print(type(url.content))  # Type is still \"bytes\"\n",
    "\n",
    "json_string = url.content  # Assign new variable\n",
    "\n",
    "convert_to_list = json.loads(json_string)  # Convert JSON Array to Python list\n",
    "\n",
    "print(convert_to_list)\n",
    "print(type(convert_to_list))\n",
    "\n",
    "# ทำการวนลูปข้อมูลออกมาแสดงผล\n",
    "for i in convert_to_list:\n",
    "    print(i)"
   ]
  },
  {
   "cell_type": "code",
   "execution_count": null,
   "metadata": {},
   "outputs": [],
   "source": [
    "# สรุป\n",
    "# JSON คือหนึ่งรูปแบบการแลกเปลี่ยนข้อมูลที่ได้รับความนิยมสูงสุดในปัจจุบัน\n",
    "# ใน Python มีโมดูลที่จัดการเกี่ยวกับ JSON ให้เรียบร้อยคือ   json  \n",
    "# json.loads  คือ การเมธอดในการแปลง JSON string ให้เป็น Python Object (Dict)\n",
    "# json.dumps()   คือ การแปลง JSON string ให้เป็น Python Object (Dict)\n",
    "# json.dump()  คือ การแปลง Python Object ให้เป็น JSON Object (เก็บข้อมูลให้อยู่ในไฟล์ .json) --> เขียนไฟล์ JSON\n",
    "# Serialization คือ กระบวนการหรือคำนิยามสำหรับการแปลง Python Object ไปเป็น JSON ฟอร์แมต เพื่อทำการส่งต่อข้อมูล (Transmit) หรือเรียกอีกอย่างหนึ่งในทำนองของการ Encoding \n",
    "# Deserialization คือ กระบวนการหรือคำนิยามในการแปลง JSON Object ให้อยู่ในรูปของชนิดข้อมูล (Data Type) แบบ dict ของภาษาไพธอน ในทำนอง Decoding"
   ]
  }
 ],
 "metadata": {
  "kernelspec": {
   "display_name": "Python 3",
   "language": "python",
   "name": "python3"
  },
  "language_info": {
   "codemirror_mode": {
    "name": "ipython",
    "version": 3
   },
   "file_extension": ".py",
   "mimetype": "text/x-python",
   "name": "python",
   "nbconvert_exporter": "python",
   "pygments_lexer": "ipython3",
   "version": "3.8.3"
  }
 },
 "nbformat": 4,
 "nbformat_minor": 4
}
